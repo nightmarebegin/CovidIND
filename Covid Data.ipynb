{
 "cells": [
  {
   "cell_type": "code",
   "execution_count": 1,
   "metadata": {},
   "outputs": [
    {
     "data": {
      "text/html": [
       "<img src=\"https://images.newindianexpress.com/uploads/user/imagelibrary/2020/3/7/w900X450/IGFJBV.jpg\"/>"
      ],
      "text/plain": [
       "<IPython.core.display.Image object>"
      ]
     },
     "execution_count": 1,
     "metadata": {},
     "output_type": "execute_result"
    }
   ],
   "source": [
    "from IPython.display import Image\n",
    "Image(url='https://images.newindianexpress.com/uploads/user/imagelibrary/2020/3/7/w900X450/IGFJBV.jpg')"
   ]
  },
  {
   "cell_type": "markdown",
   "metadata": {},
   "source": [
    "# Importing Modules"
   ]
  },
  {
   "cell_type": "code",
   "execution_count": 2,
   "metadata": {},
   "outputs": [],
   "source": [
    "import pandas as pd\n",
    "import numpy as np\n",
    "from matplotlib import pyplot as plt\n",
    "%matplotlib inline\n",
    "from sklearn import linear_model\n",
    "\n"
   ]
  },
  {
   "cell_type": "markdown",
   "metadata": {},
   "source": [
    "# Creating DataFrames"
   ]
  },
  {
   "cell_type": "code",
   "execution_count": 3,
   "metadata": {},
   "outputs": [],
   "source": [
    "df=pd.read_excel('train.xlsx')"
   ]
  },
  {
   "cell_type": "code",
   "execution_count": 4,
   "metadata": {},
   "outputs": [
    {
     "name": "stdout",
     "output_type": "stream",
     "text": [
      "Data Shape: (219, 8)\n"
     ]
    }
   ],
   "source": [
    "df.isnull().sum()\n",
    "print(\"Data Shape:\",df.shape)"
   ]
  },
  {
   "cell_type": "code",
   "execution_count": 5,
   "metadata": {},
   "outputs": [
    {
     "name": "stdout",
     "output_type": "stream",
     "text": [
      "<class 'pandas.core.frame.DataFrame'>\n",
      "RangeIndex: 219 entries, 0 to 218\n",
      "Data columns (total 8 columns):\n",
      " #   Column           Non-Null Count  Dtype         \n",
      "---  ------           --------------  -----         \n",
      " 0   Date             219 non-null    datetime64[ns]\n",
      " 1   Daily Confirmed  219 non-null    int64         \n",
      " 2   Total Confirmed  219 non-null    int64         \n",
      " 3   Daily Recovered  219 non-null    int64         \n",
      " 4   Total Recovered  219 non-null    int64         \n",
      " 5   Daily Deceased   219 non-null    int64         \n",
      " 6   Death            219 non-null    int64         \n",
      " 7   Day              219 non-null    int64         \n",
      "dtypes: datetime64[ns](1), int64(7)\n",
      "memory usage: 13.8 KB\n"
     ]
    }
   ],
   "source": [
    "df.info()"
   ]
  },
  {
   "cell_type": "code",
   "execution_count": 6,
   "metadata": {},
   "outputs": [
    {
     "data": {
      "text/html": [
       "<div>\n",
       "<style scoped>\n",
       "    .dataframe tbody tr th:only-of-type {\n",
       "        vertical-align: middle;\n",
       "    }\n",
       "\n",
       "    .dataframe tbody tr th {\n",
       "        vertical-align: top;\n",
       "    }\n",
       "\n",
       "    .dataframe thead th {\n",
       "        text-align: right;\n",
       "    }\n",
       "</style>\n",
       "<table border=\"1\" class=\"dataframe\">\n",
       "  <thead>\n",
       "    <tr style=\"text-align: right;\">\n",
       "      <th></th>\n",
       "      <th>Date</th>\n",
       "      <th>Daily Confirmed</th>\n",
       "      <th>Total Confirmed</th>\n",
       "      <th>Daily Recovered</th>\n",
       "      <th>Total Recovered</th>\n",
       "      <th>Daily Deceased</th>\n",
       "      <th>Death</th>\n",
       "      <th>Day</th>\n",
       "    </tr>\n",
       "  </thead>\n",
       "  <tbody>\n",
       "    <tr>\n",
       "      <th>0</th>\n",
       "      <td>2020-01-30</td>\n",
       "      <td>1</td>\n",
       "      <td>1</td>\n",
       "      <td>0</td>\n",
       "      <td>0</td>\n",
       "      <td>0</td>\n",
       "      <td>0</td>\n",
       "      <td>1</td>\n",
       "    </tr>\n",
       "    <tr>\n",
       "      <th>1</th>\n",
       "      <td>2020-01-31</td>\n",
       "      <td>0</td>\n",
       "      <td>1</td>\n",
       "      <td>0</td>\n",
       "      <td>0</td>\n",
       "      <td>0</td>\n",
       "      <td>0</td>\n",
       "      <td>2</td>\n",
       "    </tr>\n",
       "    <tr>\n",
       "      <th>2</th>\n",
       "      <td>2020-02-01</td>\n",
       "      <td>0</td>\n",
       "      <td>1</td>\n",
       "      <td>0</td>\n",
       "      <td>0</td>\n",
       "      <td>0</td>\n",
       "      <td>0</td>\n",
       "      <td>3</td>\n",
       "    </tr>\n",
       "    <tr>\n",
       "      <th>3</th>\n",
       "      <td>2020-02-02</td>\n",
       "      <td>1</td>\n",
       "      <td>2</td>\n",
       "      <td>0</td>\n",
       "      <td>0</td>\n",
       "      <td>0</td>\n",
       "      <td>0</td>\n",
       "      <td>4</td>\n",
       "    </tr>\n",
       "    <tr>\n",
       "      <th>4</th>\n",
       "      <td>2020-02-03</td>\n",
       "      <td>1</td>\n",
       "      <td>3</td>\n",
       "      <td>0</td>\n",
       "      <td>0</td>\n",
       "      <td>0</td>\n",
       "      <td>0</td>\n",
       "      <td>5</td>\n",
       "    </tr>\n",
       "    <tr>\n",
       "      <th>5</th>\n",
       "      <td>2020-02-04</td>\n",
       "      <td>0</td>\n",
       "      <td>3</td>\n",
       "      <td>0</td>\n",
       "      <td>0</td>\n",
       "      <td>0</td>\n",
       "      <td>0</td>\n",
       "      <td>6</td>\n",
       "    </tr>\n",
       "    <tr>\n",
       "      <th>6</th>\n",
       "      <td>2020-02-05</td>\n",
       "      <td>0</td>\n",
       "      <td>3</td>\n",
       "      <td>0</td>\n",
       "      <td>0</td>\n",
       "      <td>0</td>\n",
       "      <td>0</td>\n",
       "      <td>7</td>\n",
       "    </tr>\n",
       "    <tr>\n",
       "      <th>7</th>\n",
       "      <td>2020-02-06</td>\n",
       "      <td>0</td>\n",
       "      <td>3</td>\n",
       "      <td>0</td>\n",
       "      <td>0</td>\n",
       "      <td>0</td>\n",
       "      <td>0</td>\n",
       "      <td>8</td>\n",
       "    </tr>\n",
       "    <tr>\n",
       "      <th>8</th>\n",
       "      <td>2020-02-07</td>\n",
       "      <td>0</td>\n",
       "      <td>3</td>\n",
       "      <td>0</td>\n",
       "      <td>0</td>\n",
       "      <td>0</td>\n",
       "      <td>0</td>\n",
       "      <td>9</td>\n",
       "    </tr>\n",
       "    <tr>\n",
       "      <th>9</th>\n",
       "      <td>2020-02-08</td>\n",
       "      <td>0</td>\n",
       "      <td>3</td>\n",
       "      <td>0</td>\n",
       "      <td>0</td>\n",
       "      <td>0</td>\n",
       "      <td>0</td>\n",
       "      <td>10</td>\n",
       "    </tr>\n",
       "  </tbody>\n",
       "</table>\n",
       "</div>"
      ],
      "text/plain": [
       "        Date  Daily Confirmed  Total Confirmed  Daily Recovered  \\\n",
       "0 2020-01-30                1                1                0   \n",
       "1 2020-01-31                0                1                0   \n",
       "2 2020-02-01                0                1                0   \n",
       "3 2020-02-02                1                2                0   \n",
       "4 2020-02-03                1                3                0   \n",
       "5 2020-02-04                0                3                0   \n",
       "6 2020-02-05                0                3                0   \n",
       "7 2020-02-06                0                3                0   \n",
       "8 2020-02-07                0                3                0   \n",
       "9 2020-02-08                0                3                0   \n",
       "\n",
       "   Total Recovered  Daily Deceased  Death  Day  \n",
       "0                0               0      0    1  \n",
       "1                0               0      0    2  \n",
       "2                0               0      0    3  \n",
       "3                0               0      0    4  \n",
       "4                0               0      0    5  \n",
       "5                0               0      0    6  \n",
       "6                0               0      0    7  \n",
       "7                0               0      0    8  \n",
       "8                0               0      0    9  \n",
       "9                0               0      0   10  "
      ]
     },
     "execution_count": 6,
     "metadata": {},
     "output_type": "execute_result"
    }
   ],
   "source": [
    "df.head(10)\n"
   ]
  },
  {
   "cell_type": "code",
   "execution_count": 7,
   "metadata": {},
   "outputs": [
    {
     "data": {
      "text/html": [
       "<div>\n",
       "<style scoped>\n",
       "    .dataframe tbody tr th:only-of-type {\n",
       "        vertical-align: middle;\n",
       "    }\n",
       "\n",
       "    .dataframe tbody tr th {\n",
       "        vertical-align: top;\n",
       "    }\n",
       "\n",
       "    .dataframe thead th {\n",
       "        text-align: right;\n",
       "    }\n",
       "</style>\n",
       "<table border=\"1\" class=\"dataframe\">\n",
       "  <thead>\n",
       "    <tr style=\"text-align: right;\">\n",
       "      <th></th>\n",
       "      <th>Date</th>\n",
       "      <th>Daily Confirmed</th>\n",
       "      <th>Total Confirmed</th>\n",
       "      <th>Daily Recovered</th>\n",
       "      <th>Total Recovered</th>\n",
       "      <th>Daily Deceased</th>\n",
       "      <th>Death</th>\n",
       "      <th>Day</th>\n",
       "    </tr>\n",
       "  </thead>\n",
       "  <tbody>\n",
       "    <tr>\n",
       "      <th>209</th>\n",
       "      <td>2020-08-26</td>\n",
       "      <td>75995</td>\n",
       "      <td>3307763</td>\n",
       "      <td>56191</td>\n",
       "      <td>2523436</td>\n",
       "      <td>1017</td>\n",
       "      <td>60641</td>\n",
       "      <td>210</td>\n",
       "    </tr>\n",
       "    <tr>\n",
       "      <th>210</th>\n",
       "      <td>2020-08-27</td>\n",
       "      <td>76827</td>\n",
       "      <td>3384590</td>\n",
       "      <td>59620</td>\n",
       "      <td>2583056</td>\n",
       "      <td>1066</td>\n",
       "      <td>61707</td>\n",
       "      <td>211</td>\n",
       "    </tr>\n",
       "    <tr>\n",
       "      <th>211</th>\n",
       "      <td>2020-08-28</td>\n",
       "      <td>76657</td>\n",
       "      <td>3461247</td>\n",
       "      <td>64475</td>\n",
       "      <td>2647531</td>\n",
       "      <td>1019</td>\n",
       "      <td>62726</td>\n",
       "      <td>212</td>\n",
       "    </tr>\n",
       "    <tr>\n",
       "      <th>212</th>\n",
       "      <td>2020-08-29</td>\n",
       "      <td>78479</td>\n",
       "      <td>3539726</td>\n",
       "      <td>64982</td>\n",
       "      <td>2712513</td>\n",
       "      <td>943</td>\n",
       "      <td>63669</td>\n",
       "      <td>213</td>\n",
       "    </tr>\n",
       "    <tr>\n",
       "      <th>213</th>\n",
       "      <td>2020-08-30</td>\n",
       "      <td>79461</td>\n",
       "      <td>3619187</td>\n",
       "      <td>60422</td>\n",
       "      <td>2772935</td>\n",
       "      <td>960</td>\n",
       "      <td>64629</td>\n",
       "      <td>214</td>\n",
       "    </tr>\n",
       "    <tr>\n",
       "      <th>214</th>\n",
       "      <td>2020-08-31</td>\n",
       "      <td>68766</td>\n",
       "      <td>3687953</td>\n",
       "      <td>64435</td>\n",
       "      <td>2837370</td>\n",
       "      <td>816</td>\n",
       "      <td>65445</td>\n",
       "      <td>215</td>\n",
       "    </tr>\n",
       "    <tr>\n",
       "      <th>215</th>\n",
       "      <td>2020-09-01</td>\n",
       "      <td>78168</td>\n",
       "      <td>3766121</td>\n",
       "      <td>62145</td>\n",
       "      <td>2899515</td>\n",
       "      <td>1027</td>\n",
       "      <td>66472</td>\n",
       "      <td>216</td>\n",
       "    </tr>\n",
       "    <tr>\n",
       "      <th>216</th>\n",
       "      <td>2020-09-02</td>\n",
       "      <td>82860</td>\n",
       "      <td>3848981</td>\n",
       "      <td>67874</td>\n",
       "      <td>2967389</td>\n",
       "      <td>1026</td>\n",
       "      <td>67498</td>\n",
       "      <td>217</td>\n",
       "    </tr>\n",
       "    <tr>\n",
       "      <th>217</th>\n",
       "      <td>2020-09-03</td>\n",
       "      <td>84156</td>\n",
       "      <td>3933137</td>\n",
       "      <td>67491</td>\n",
       "      <td>3034880</td>\n",
       "      <td>1083</td>\n",
       "      <td>68581</td>\n",
       "      <td>218</td>\n",
       "    </tr>\n",
       "    <tr>\n",
       "      <th>218</th>\n",
       "      <td>2020-09-04</td>\n",
       "      <td>87115</td>\n",
       "      <td>4020252</td>\n",
       "      <td>69625</td>\n",
       "      <td>3104505</td>\n",
       "      <td>1066</td>\n",
       "      <td>69647</td>\n",
       "      <td>219</td>\n",
       "    </tr>\n",
       "  </tbody>\n",
       "</table>\n",
       "</div>"
      ],
      "text/plain": [
       "          Date  Daily Confirmed  Total Confirmed  Daily Recovered  \\\n",
       "209 2020-08-26            75995          3307763            56191   \n",
       "210 2020-08-27            76827          3384590            59620   \n",
       "211 2020-08-28            76657          3461247            64475   \n",
       "212 2020-08-29            78479          3539726            64982   \n",
       "213 2020-08-30            79461          3619187            60422   \n",
       "214 2020-08-31            68766          3687953            64435   \n",
       "215 2020-09-01            78168          3766121            62145   \n",
       "216 2020-09-02            82860          3848981            67874   \n",
       "217 2020-09-03            84156          3933137            67491   \n",
       "218 2020-09-04            87115          4020252            69625   \n",
       "\n",
       "     Total Recovered  Daily Deceased  Death  Day  \n",
       "209          2523436            1017  60641  210  \n",
       "210          2583056            1066  61707  211  \n",
       "211          2647531            1019  62726  212  \n",
       "212          2712513             943  63669  213  \n",
       "213          2772935             960  64629  214  \n",
       "214          2837370             816  65445  215  \n",
       "215          2899515            1027  66472  216  \n",
       "216          2967389            1026  67498  217  \n",
       "217          3034880            1083  68581  218  \n",
       "218          3104505            1066  69647  219  "
      ]
     },
     "execution_count": 7,
     "metadata": {},
     "output_type": "execute_result"
    }
   ],
   "source": [
    "df.tail(10)"
   ]
  },
  {
   "cell_type": "code",
   "execution_count": 8,
   "metadata": {},
   "outputs": [
    {
     "data": {
      "text/html": [
       "<div>\n",
       "<style scoped>\n",
       "    .dataframe tbody tr th:only-of-type {\n",
       "        vertical-align: middle;\n",
       "    }\n",
       "\n",
       "    .dataframe tbody tr th {\n",
       "        vertical-align: top;\n",
       "    }\n",
       "\n",
       "    .dataframe thead th {\n",
       "        text-align: right;\n",
       "    }\n",
       "</style>\n",
       "<table border=\"1\" class=\"dataframe\">\n",
       "  <thead>\n",
       "    <tr style=\"text-align: right;\">\n",
       "      <th></th>\n",
       "      <th>Daily Confirmed</th>\n",
       "      <th>Total Confirmed</th>\n",
       "      <th>Daily Recovered</th>\n",
       "      <th>Total Recovered</th>\n",
       "      <th>Daily Deceased</th>\n",
       "      <th>Death</th>\n",
       "      <th>Day</th>\n",
       "    </tr>\n",
       "  </thead>\n",
       "  <tbody>\n",
       "    <tr>\n",
       "      <th>count</th>\n",
       "      <td>219.000000</td>\n",
       "      <td>2.190000e+02</td>\n",
       "      <td>219.000000</td>\n",
       "      <td>2.190000e+02</td>\n",
       "      <td>219.000000</td>\n",
       "      <td>219.000000</td>\n",
       "      <td>219.000000</td>\n",
       "    </tr>\n",
       "    <tr>\n",
       "      <th>mean</th>\n",
       "      <td>18357.315068</td>\n",
       "      <td>6.650553e+05</td>\n",
       "      <td>14175.821918</td>\n",
       "      <td>4.578800e+05</td>\n",
       "      <td>318.022831</td>\n",
       "      <td>14213.232877</td>\n",
       "      <td>110.000000</td>\n",
       "    </tr>\n",
       "    <tr>\n",
       "      <th>std</th>\n",
       "      <td>24795.018841</td>\n",
       "      <td>1.043929e+06</td>\n",
       "      <td>20962.059626</td>\n",
       "      <td>7.788731e+05</td>\n",
       "      <td>372.345103</td>\n",
       "      <td>19680.410092</td>\n",
       "      <td>63.364028</td>\n",
       "    </tr>\n",
       "    <tr>\n",
       "      <th>min</th>\n",
       "      <td>0.000000</td>\n",
       "      <td>1.000000e+00</td>\n",
       "      <td>0.000000</td>\n",
       "      <td>0.000000e+00</td>\n",
       "      <td>0.000000</td>\n",
       "      <td>0.000000</td>\n",
       "      <td>1.000000</td>\n",
       "    </tr>\n",
       "    <tr>\n",
       "      <th>25%</th>\n",
       "      <td>82.000000</td>\n",
       "      <td>6.140000e+02</td>\n",
       "      <td>6.500000</td>\n",
       "      <td>4.150000e+01</td>\n",
       "      <td>2.500000</td>\n",
       "      <td>10.500000</td>\n",
       "      <td>55.500000</td>\n",
       "    </tr>\n",
       "    <tr>\n",
       "      <th>50%</th>\n",
       "      <td>5049.000000</td>\n",
       "      <td>1.003260e+05</td>\n",
       "      <td>2576.000000</td>\n",
       "      <td>3.927700e+04</td>\n",
       "      <td>140.000000</td>\n",
       "      <td>3155.000000</td>\n",
       "      <td>110.000000</td>\n",
       "    </tr>\n",
       "    <tr>\n",
       "      <th>75%</th>\n",
       "      <td>27970.000000</td>\n",
       "      <td>8.649190e+05</td>\n",
       "      <td>19744.500000</td>\n",
       "      <td>5.453310e+05</td>\n",
       "      <td>543.000000</td>\n",
       "      <td>22939.000000</td>\n",
       "      <td>164.500000</td>\n",
       "    </tr>\n",
       "    <tr>\n",
       "      <th>max</th>\n",
       "      <td>87115.000000</td>\n",
       "      <td>4.020252e+06</td>\n",
       "      <td>69625.000000</td>\n",
       "      <td>3.104505e+06</td>\n",
       "      <td>2004.000000</td>\n",
       "      <td>69647.000000</td>\n",
       "      <td>219.000000</td>\n",
       "    </tr>\n",
       "  </tbody>\n",
       "</table>\n",
       "</div>"
      ],
      "text/plain": [
       "       Daily Confirmed  Total Confirmed  Daily Recovered  Total Recovered  \\\n",
       "count       219.000000     2.190000e+02       219.000000     2.190000e+02   \n",
       "mean      18357.315068     6.650553e+05     14175.821918     4.578800e+05   \n",
       "std       24795.018841     1.043929e+06     20962.059626     7.788731e+05   \n",
       "min           0.000000     1.000000e+00         0.000000     0.000000e+00   \n",
       "25%          82.000000     6.140000e+02         6.500000     4.150000e+01   \n",
       "50%        5049.000000     1.003260e+05      2576.000000     3.927700e+04   \n",
       "75%       27970.000000     8.649190e+05     19744.500000     5.453310e+05   \n",
       "max       87115.000000     4.020252e+06     69625.000000     3.104505e+06   \n",
       "\n",
       "       Daily Deceased         Death         Day  \n",
       "count      219.000000    219.000000  219.000000  \n",
       "mean       318.022831  14213.232877  110.000000  \n",
       "std        372.345103  19680.410092   63.364028  \n",
       "min          0.000000      0.000000    1.000000  \n",
       "25%          2.500000     10.500000   55.500000  \n",
       "50%        140.000000   3155.000000  110.000000  \n",
       "75%        543.000000  22939.000000  164.500000  \n",
       "max       2004.000000  69647.000000  219.000000  "
      ]
     },
     "execution_count": 8,
     "metadata": {},
     "output_type": "execute_result"
    }
   ],
   "source": [
    "df.describe()"
   ]
  },
  {
   "cell_type": "code",
   "execution_count": 9,
   "metadata": {},
   "outputs": [
    {
     "data": {
      "text/plain": [
       "Date               0\n",
       "Daily Confirmed    0\n",
       "Total Confirmed    0\n",
       "Daily Recovered    0\n",
       "Total Recovered    0\n",
       "Daily Deceased     0\n",
       "Death              0\n",
       "Day                0\n",
       "dtype: int64"
      ]
     },
     "execution_count": 9,
     "metadata": {},
     "output_type": "execute_result"
    }
   ],
   "source": [
    "df.isnull().sum()"
   ]
  },
  {
   "cell_type": "markdown",
   "metadata": {},
   "source": [
    "# Plotting Graphs"
   ]
  },
  {
   "cell_type": "code",
   "execution_count": 10,
   "metadata": {},
   "outputs": [
    {
     "data": {
      "text/plain": [
       "<matplotlib.legend.Legend at 0x26c934651c0>"
      ]
     },
     "execution_count": 10,
     "metadata": {},
     "output_type": "execute_result"
    },
    {
     "data": {
      "image/png": "[encoded data removed]",
      "text/plain": [
       "<Figure size 1080x1080 with 1 Axes>"
      ]
     },
     "metadata": {
      "needs_background": "light"
     },
     "output_type": "display_data"
    }
   ],
   "source": [
    "fig=plt.figure(figsize=(15,15))\n",
    "\n",
    "plt.xlabel('Tota Confirmed Cases & Total Recovered')\n",
    "plt.ylabel('Cases')\n",
    "plt.title('Covid Cases')\n",
    "plt.scatter(df['Day'],df['Daily Confirmed'],label='Active')\n",
    "plt.scatter(df['Day'],df['Daily Recovered'],color='red',label=('Recovery'))\n",
    "plt.legend()\n"
   ]
  },
  {
   "cell_type": "code",
   "execution_count": 11,
   "metadata": {},
   "outputs": [
    {
     "data": {
      "text/plain": [
       "<matplotlib.legend.Legend at 0x26c93c5d6a0>"
      ]
     },
     "execution_count": 11,
     "metadata": {},
     "output_type": "execute_result"
    },
    {
     "data": {
      "image/png": "[encoded data removed]",
      "text/plain": [
       "<Figure size 1080x1080 with 1 Axes>"
      ]
     },
     "metadata": {
      "needs_background": "light"
     },
     "output_type": "display_data"
    }
   ],
   "source": [
    "fig=plt.figure(figsize=(15,15))\n",
    "plt.xlabel('Tota Confirmed Cases & Total Recovered')\n",
    "plt.ylabel('Cases')\n",
    "plt.title('Covid Cases')\n",
    "plt.bar(df['Day'],df['Daily Confirmed'],label='Active')\n",
    "plt.bar(df['Day'],df['Daily Recovered'],color='red',label='Recoverd')\n",
    "plt.legend()"
   ]
  },
  {
   "cell_type": "code",
   "execution_count": 12,
   "metadata": {
    "scrolled": false
   },
   "outputs": [
    {
     "data": {
      "text/plain": [
       "<matplotlib.legend.Legend at 0x26c9490c310>"
      ]
     },
     "execution_count": 12,
     "metadata": {},
     "output_type": "execute_result"
    },
    {
     "data": {
      "image/png": "[encoded data removed]",
      "text/plain": [
       "<Figure size 1080x1080 with 1 Axes>"
      ]
     },
     "metadata": {
      "needs_background": "light"
     },
     "output_type": "display_data"
    }
   ],
   "source": [
    "fig=plt.figure(figsize=(15,15))\n",
    "plt.xlabel('Tota Confirmed Cases & Total Recovered')\n",
    "plt.ylabel('Cases')\n",
    "plt.title('Covid Cases')\n",
    "plt.plot(df['Day'],df['Daily Confirmed'],label='Active')\n",
    "plt.plot(df['Day'],df['Daily Recovered'],color='red',label='Recovered')\n",
    "plt.legend()\n"
   ]
  },
  {
   "cell_type": "code",
   "execution_count": 71,
   "metadata": {},
   "outputs": [],
   "source": [
    "#Number of Days when death is between ranges given in x-axis"
   ]
  },
  {
   "cell_type": "code",
   "execution_count": 72,
   "metadata": {},
   "outputs": [
    {
     "data": {
      "text/plain": [
       "(array([98., 22., 12., 14., 13.,  8.,  7.,  9., 11., 12., 11.]),\n",
       " array([   0,  100,  200,  300,  400,  500,  600,  700,  800,  900, 1000,\n",
       "        1100]),\n",
       " <a list of 11 Patch objects>)"
      ]
     },
     "execution_count": 72,
     "metadata": {},
     "output_type": "execute_result"
    },
    {
     "data": {
      "image/png": "[encoded data removed]",
      "text/plain": [
       "<Figure size 432x288 with 1 Axes>"
      ]
     },
     "metadata": {
      "needs_background": "light"
     },
     "output_type": "display_data"
    }
   ],
   "source": [
    "plt.xlabel('Daily Deceaded')\n",
    "plt.ylabel('Frequency/No of Days')\n",
    "plt.title('Histogram for Day&Death Distrubution')\n",
    "death=df['Daily Deceased']\n",
    "bins=[0,100,200,300,400,500,600,700,800,900,1000,1100]\n",
    "plt.hist(death,bins,rwidth=0.1,histtype='bar')"
   ]
  },
  {
   "cell_type": "code",
   "execution_count": null,
   "metadata": {},
   "outputs": [],
   "source": [
    "#STACK PlOT"
   ]
  },
  {
   "cell_type": "code",
   "execution_count": 85,
   "metadata": {},
   "outputs": [
    {
     "data": {
      "text/plain": [
       "[<matplotlib.collections.PolyCollection at 0x26c965d1c10>,\n",
       " <matplotlib.collections.PolyCollection at 0x26c965d1eb0>]"
      ]
     },
     "execution_count": 85,
     "metadata": {},
     "output_type": "execute_result"
    },
    {
     "data": {
      "image/png": "[encoded data removed]",
      "text/plain": [
       "<Figure size 432x288 with 1 Axes>"
      ]
     },
     "metadata": {
      "needs_background": "light"
     },
     "output_type": "display_data"
    }
   ],
   "source": [
    "plt.xlabel('Days')\n",
    "plt.ylabel('Cases')\n",
    "plt.title('StackPlot for Cases vs Recovery')\n",
    "plt.stackplot(df['Day'],df['Daily Confirmed'],df['Daily Recovered'],colors=['r','g'])"
   ]
  },
  {
   "cell_type": "markdown",
   "metadata": {},
   "source": [
    "# Data Analysis"
   ]
  },
  {
   "cell_type": "code",
   "execution_count": 46,
   "metadata": {},
   "outputs": [],
   "source": [
    "day=df['Day']\n",
    "\n"
   ]
  },
  {
   "cell_type": "code",
   "execution_count": 47,
   "metadata": {},
   "outputs": [],
   "source": [
    "daily_cases=df['Daily Confirmed']"
   ]
  },
  {
   "cell_type": "code",
   "execution_count": 48,
   "metadata": {},
   "outputs": [],
   "source": [
    "daily_recovered=df['Daily Recovered']"
   ]
  },
  {
   "cell_type": "code",
   "execution_count": 49,
   "metadata": {},
   "outputs": [],
   "source": [
    "m=day.values.tolist()"
   ]
  },
  {
   "cell_type": "code",
   "execution_count": 51,
   "metadata": {},
   "outputs": [],
   "source": [
    "n=daily_cases.values.tolist()\n",
    "o=daily_recovered.values.tolist()\n"
   ]
  },
  {
   "cell_type": "code",
   "execution_count": null,
   "metadata": {},
   "outputs": [],
   "source": []
  },
  {
   "cell_type": "code",
   "execution_count": 52,
   "metadata": {},
   "outputs": [
    {
     "name": "stdout",
     "output_type": "stream",
     "text": [
      "[1, 2, 3, 4, 5, 6, 7, 8, 9, 10, 11, 12, 13, 14, 15, 16, 17, 18, 19, 20, 21, 22, 23, 24, 25, 26, 27, 28, 29, 30, 31, 32, 33, 34, 35, 36, 37, 38, 39, 40, 41, 42, 43, 44, 45, 46, 47, 48, 49, 50, 51, 52, 53, 54, 55, 56, 57, 58, 59, 60, 61, 62, 63, 64, 65, 66, 67, 68, 69, 70, 71, 72, 73, 74, 75, 76, 77, 78, 79, 80, 81, 82, 83, 84, 85, 86, 87, 88, 89, 90, 91, 92, 93, 94, 95, 96, 97, 98, 99, 100, 101, 102, 103, 104, 105, 106, 107, 108, 109, 110, 111, 112, 113, 114, 115, 116, 117, 118, 119, 120, 121, 122, 123, 124, 125, 126, 127, 128, 129, 130, 131, 132, 133, 134, 135, 136, 137, 138, 139, 140, 141, 142, 143, 144, 145, 146, 147, 148, 149, 150, 151, 152, 153, 154, 155, 156, 157, 158, 159, 160, 161, 162, 163, 164, 165, 166, 167, 168, 169, 170, 171, 172, 173, 174, 175, 176, 177, 178, 179, 180, 181, 182, 183, 184, 185, 186, 187, 188, 189, 190, 191, 192, 193, 194, 195, 196, 197, 198, 199, 200, 201, 202, 203, 204, 205, 206, 207, 208, 209, 210, 211, 212, 213, 214, 215, 216, 217, 218, 219]\n"
     ]
    }
   ],
   "source": [
    "print(m)"
   ]
  },
  {
   "cell_type": "code",
   "execution_count": 53,
   "metadata": {},
   "outputs": [
    {
     "name": "stdout",
     "output_type": "stream",
     "text": [
      "[1, 0, 0, 1, 1, 0, 0, 0, 0, 0, 0, 0, 0, 0, 0, 0, 0, 0, 0, 0, 0, 0, 0, 0, 0, 0, 0, 0, 0, 0, 0, 0, 2, 1, 22, 2, 1, 3, 5, 9, 15, 8, 10, 10, 11, 10, 14, 20, 25, 27, 58, 78, 69, 94, 74, 86, 73, 153, 136, 120, 187, 309, 424, 486, 560, 579, 609, 484, 573, 565, 813, 871, 854, 758, 1243, 1031, 886, 1061, 922, 1371, 1580, 1239, 1537, 1292, 1667, 1408, 1835, 1607, 1568, 1902, 1705, 1801, 2396, 2564, 2952, 3656, 2971, 3602, 3344, 3339, 3175, 4311, 3592, 3562, 3726, 3991, 3808, 4794, 5049, 4628, 6154, 5720, 6023, 6536, 6667, 7111, 6414, 5907, 7246, 7254, 8138, 8364, 8789, 7723, 8812, 9689, 9847, 9472, 10408, 10882, 8536, 9981, 11156, 11135, 11306, 12039, 11405, 10032, 11086, 13108, 13829, 14740, 15918, 15151, 13560, 15656, 16868, 18205, 18255, 20142, 19610, 18339, 18256, 19429, 21947, 22718, 24018, 23942, 22500, 23147, 25561, 25790, 27762, 27757, 29106, 28178, 29917, 32607, 35468, 34820, 37411, 40235, 36806, 39170, 45601, 48443, 48888, 50072, 48932, 46484, 49631, 52479, 54968, 57486, 55117, 52672, 50488, 51282, 56626, 62170, 61455, 65156, 62117, 53016, 61252, 67066, 64141, 65610, 63986, 58096, 54298, 65024, 69196, 68518, 69029, 70067, 61749, 59696, 66873, 75995, 76827, 76657, 78479, 79461, 68766, 78168, 82860, 84156, 87115]\n",
      "[0, 0, 0, 0, 0, 0, 0, 0, 0, 0, 0, 0, 0, 0, 1, 0, 0, 1, 0, 0, 0, 1, 0, 0, 0, 0, 0, 0, 0, 0, 0, 0, 0, 0, 0, 0, 0, 0, 0, 0, 1, 0, 0, 6, 0, 3, 1, 1, 0, 5, 3, 0, 0, 2, 15, 3, 7, 25, 10, 17, 35, 13, 19, 22, 39, 56, 43, 65, 75, 96, 70, 151, 186, 114, 112, 167, 144, 258, 273, 426, 388, 419, 703, 394, 642, 484, 442, 585, 580, 636, 690, 630, 962, 831, 911, 1082, 1295, 1161, 1475, 1111, 1414, 1669, 1579, 1905, 1963, 1594, 2234, 4012, 2538, 2482, 3032, 3113, 3131, 3280, 2576, 3285, 3012, 3585, 3434, 3171, 11735, 4303, 4928, 3882, 4531, 3789, 4390, 4770, 5433, 5191, 5171, 5634, 6275, 6044, 7263, 8092, 7358, 10639, 7226, 6890, 10741, 9029, 13974, 9075, 10879, 10462, 13089, 13983, 10246, 14229, 11631, 13497, 12565, 12064, 19999, 14417, 14746, 15829, 15315, 16836, 19508, 19408, 20289, 19981, 18198, 17683, 20977, 20646, 22867, 17476, 23583, 22730, 24303, 27589, 31875, 33326, 32514, 37125, 31512, 34354, 35683, 32886, 37425, 36554, 51368, 40355, 43070, 51220, 45583, 50141, 50387, 52135, 54474, 47362, 56461, 57759, 54776, 56920, 53116, 57404, 58172, 60455, 59365, 61873, 62858, 59101, 56896, 66305, 64151, 56191, 59620, 64475, 64982, 60422, 64435, 62145, 67874, 67491, 69625]\n"
     ]
    }
   ],
   "source": [
    "print(n)\n",
    "print(o)"
   ]
  },
  {
   "cell_type": "code",
   "execution_count": 54,
   "metadata": {},
   "outputs": [
    {
     "name": "stdout",
     "output_type": "stream",
     "text": [
      "Day when recoveries are greater than Total daily Cases Happened: 15\n",
      "Day when recoveries are greater than Total daily Cases Happened: 18\n",
      "Day when recoveries are greater than Total daily Cases Happened: 22\n",
      "Day when recoveries are greater than Total daily Cases Happened: 121\n",
      "Day when recoveries are greater than Total daily Cases Happened: 138\n",
      "Day when recoveries are greater than Total daily Cases Happened: 201\n",
      "Day when recoveries are greater than Total daily Cases Happened: 208\n"
     ]
    }
   ],
   "source": [
    "i=0\n",
    "while (i<=218):\n",
    "    if(o[i]>n[i]):\n",
    "        print('Day when recoveries are greater than Total daily Cases Happened:',m[i])\n",
    "    i=i+1   "
   ]
  },
  {
   "cell_type": "code",
   "execution_count": 55,
   "metadata": {},
   "outputs": [
    {
     "data": {
      "text/plain": [
       "Daily Confirmed    18357.315068\n",
       "dtype: float64"
      ]
     },
     "execution_count": 55,
     "metadata": {},
     "output_type": "execute_result"
    }
   ],
   "source": [
    "mean=df[['Daily Confirmed']].mean()\n",
    "mean\n",
    "\n",
    "\n"
   ]
  },
  {
   "cell_type": "code",
   "execution_count": 56,
   "metadata": {},
   "outputs": [
    {
     "data": {
      "text/plain": [
       "Daily Confirmed    5049.0\n",
       "dtype: float64"
      ]
     },
     "execution_count": 56,
     "metadata": {},
     "output_type": "execute_result"
    }
   ],
   "source": [
    "median=df[['Daily Confirmed']].median()\n",
    "median\n"
   ]
  },
  {
   "cell_type": "markdown",
   "metadata": {},
   "source": [
    "# Applying Machine Learning Algorithms i.e Multivariate Linear Regression"
   ]
  },
  {
   "cell_type": "code",
   "execution_count": 57,
   "metadata": {},
   "outputs": [],
   "source": [
    "reg=linear_model.LinearRegression()"
   ]
  },
  {
   "cell_type": "code",
   "execution_count": 58,
   "metadata": {},
   "outputs": [
    {
     "data": {
      "text/plain": [
       "LinearRegression()"
      ]
     },
     "execution_count": 58,
     "metadata": {},
     "output_type": "execute_result"
    }
   ],
   "source": [
    "reg.fit(df[['Day','Daily Recovered','Daily Deceased']],df['Daily Confirmed'])"
   ]
  },
  {
   "cell_type": "code",
   "execution_count": 59,
   "metadata": {},
   "outputs": [
    {
     "data": {
      "text/plain": [
       "array([39.84107827,  0.96645075,  6.28384469])"
      ]
     },
     "execution_count": 59,
     "metadata": {},
     "output_type": "execute_result"
    }
   ],
   "source": [
    "reg.coef_"
   ]
  },
  {
   "cell_type": "code",
   "execution_count": 60,
   "metadata": {},
   "outputs": [
    {
     "data": {
      "text/plain": [
       "-1723.8433990179474"
      ]
     },
     "execution_count": 60,
     "metadata": {},
     "output_type": "execute_result"
    }
   ],
   "source": [
    "reg.intercept_"
   ]
  },
  {
   "cell_type": "code",
   "execution_count": 61,
   "metadata": {},
   "outputs": [],
   "source": [
    "reg1=linear_model.LinearRegression()\n"
   ]
  },
  {
   "cell_type": "code",
   "execution_count": 62,
   "metadata": {},
   "outputs": [
    {
     "data": {
      "text/plain": [
       "LinearRegression()"
      ]
     },
     "execution_count": 62,
     "metadata": {},
     "output_type": "execute_result"
    }
   ],
   "source": [
    "reg1.fit(df[['Daily Deceased']],df['Daily Confirmed'])"
   ]
  },
  {
   "cell_type": "markdown",
   "metadata": {},
   "source": [
    "# Predicting Test Cases"
   ]
  },
  {
   "cell_type": "code",
   "execution_count": 63,
   "metadata": {},
   "outputs": [
    {
     "data": {
      "text/plain": [
       "array([84106.56816236])"
      ]
     },
     "execution_count": 63,
     "metadata": {},
     "output_type": "execute_result"
    }
   ],
   "source": [
    "reg.predict([[225,73000,1005]])"
   ]
  },
  {
   "cell_type": "code",
   "execution_count": 64,
   "metadata": {},
   "outputs": [
    {
     "data": {
      "text/plain": [
       "array([72411.23895869])"
      ]
     },
     "execution_count": 64,
     "metadata": {},
     "output_type": "execute_result"
    }
   ],
   "source": [
    "reg1.predict([[1200]])"
   ]
  },
  {
   "cell_type": "code",
   "execution_count": null,
   "metadata": {},
   "outputs": [],
   "source": []
  },
  {
   "cell_type": "code",
   "execution_count": null,
   "metadata": {},
   "outputs": [],
   "source": []
  },
  {
   "cell_type": "code",
   "execution_count": null,
   "metadata": {},
   "outputs": [],
   "source": []
  },
  {
   "cell_type": "code",
   "execution_count": null,
   "metadata": {},
   "outputs": [],
   "source": []
  },
  {
   "cell_type": "code",
   "execution_count": null,
   "metadata": {},
   "outputs": [],
   "source": []
  }
 ],
 "metadata": {
  "kernelspec": {
   "display_name": "Python 3",
   "language": "python",
   "name": "python3"
  },
  "language_info": {
   "codemirror_mode": {
    "name": "ipython",
    "version": 3
   },
   "file_extension": ".py",
   "mimetype": "text/x-python",
   "name": "python",
   "nbconvert_exporter": "python",
   "pygments_lexer": "ipython3",
   "version": "3.8.3"
  }
 },
 "nbformat": 4,
 "nbformat_minor": 4
}
